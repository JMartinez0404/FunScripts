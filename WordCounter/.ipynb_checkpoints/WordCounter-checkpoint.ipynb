{
 "cells": [
  {
   "cell_type": "code",
   "execution_count": 50,
   "metadata": {},
   "outputs": [
    {
     "name": "stdout",
     "output_type": "stream",
     "text": [
      "TOTAL WORDS: 584\n",
      "\n",
      "Word Uniqueness: 49%\n"
     ]
    }
   ],
   "source": [
    "import math\n",
    "\n",
    "f = open(\"/Users/fourfour/Desktop/Python Scripts/WordCounter/Aesop.txt\",\"r\")\n",
    "fileContents = f.read().lower()\n",
    "f.close()\n",
    "fileContentsSplit = fileContents.split()\n",
    "\n",
    "wordCount = {}\n",
    "\n",
    "for split in fileContentsSplit:\n",
    "    if split.isalpha():\n",
    "        wordCount.update({split: fileContentsSplit.count(split)})\n",
    "    \n",
    "totalWords = 0\n",
    "for word in wordCount:\n",
    "    #print(f\"{word}: {wordCount[word]}\")\n",
    "    totalWords += wordCount[word]\n",
    "\n",
    "print(f\"TOTAL WORDS: {totalWords}\")\n",
    "print(f\"\\nWord Uniqueness: {math.floor((len(wordCount)/totalWords)*100)}%\")"
   ]
  }
 ],
 "metadata": {
  "kernelspec": {
   "display_name": "Python 3",
   "language": "python",
   "name": "python3"
  },
  "language_info": {
   "codemirror_mode": {
    "name": "ipython",
    "version": 3
   },
   "file_extension": ".py",
   "mimetype": "text/x-python",
   "name": "python",
   "nbconvert_exporter": "python",
   "pygments_lexer": "ipython3",
   "version": "3.7.4"
  }
 },
 "nbformat": 4,
 "nbformat_minor": 2
}
